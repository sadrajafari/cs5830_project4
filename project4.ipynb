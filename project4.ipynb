{
 "cells": [
  {
   "cell_type": "code",
   "execution_count": 813,
   "metadata": {},
   "outputs": [],
   "source": [
    "from sklearn.model_selection import train_test_split\n",
    "import pandas as pd\n",
    "from sklearn.neighbors import NearestNeighbors\n",
    "from sklearn.metrics import precision_recall_fscore_support\n",
    "from sklearn.model_selection import KFold\n",
    "import numpy as np"
   ]
  },
  {
   "cell_type": "markdown",
   "metadata": {},
   "source": [
    "## Part 1"
   ]
  },
  {
   "cell_type": "code",
   "execution_count": 814,
   "metadata": {},
   "outputs": [],
   "source": [
    "df = pd.read_csv(\"cleveland.csv\")"
   ]
  },
  {
   "cell_type": "code",
   "execution_count": 815,
   "metadata": {},
   "outputs": [],
   "source": [
    "df = df.rename({\"num\": \"disease\"}, axis=1)\n",
    "df[\"disease\"] = df[\"disease\"].apply(lambda x: min(x, 1))\n",
    "df\n",
    "df.replace(\"?\", pd.NA, inplace=True)\n",
    "df = df.dropna()"
   ]
  },
  {
   "cell_type": "code",
   "execution_count": 816,
   "metadata": {},
   "outputs": [],
   "source": [
    "X = df[[\"age\", \"sex\", \"trestbps\", \"chol\", \"fbs\", \"restecg\", \"thalach\", \"exang\", \"oldpeak\", \"slope\", \"ca\", \"thal\"]].values\n",
    "y = df[\"disease\"].values\n",
    "X_train, X_test, y_train, y_test = train_test_split(X, y, test_size=.2)\n"
   ]
  },
  {
   "cell_type": "markdown",
   "metadata": {},
   "source": [
    "## k-nearest neighbors function"
   ]
  },
  {
   "cell_type": "code",
   "execution_count": 817,
   "metadata": {},
   "outputs": [],
   "source": [
    "def knn(n_neighbors, X_train, y_train, X_test, y_test):\n",
    "    nn = NearestNeighbors(n_neighbors=n_neighbors, metric=\"euclidean\", algorithm=\"auto\")\n",
    "\n",
    "    fit = nn.fit(X_train)\n",
    "\n",
    "    distances, indices = fit.kneighbors(X_test)\n",
    "    y_pred = []\n",
    "\n",
    "    # print(list(y_test))\n",
    "\n",
    "    # for i in range(len(X_test)):\n",
    "    #     zeros = list(y_train.iloc[indices[i]]).count(0)\n",
    "    #     ones = list(y_train.iloc[indices[i]]).count(1)\n",
    "    #     if ones > zeros:\n",
    "    #         y_pred.append(1)\n",
    "    #     else:\n",
    "    #         y_pred.append(0)\n",
    "    for i in range(len(X_test)):\n",
    "        zeros = list(y_train[indices[i]]).count(0)\n",
    "        ones = list(y_train[indices[i]]).count(1)\n",
    "        if ones > zeros:\n",
    "            y_pred.append(1)\n",
    "        # In case of equality of numbers we predict zero\n",
    "        else:\n",
    "            y_pred.append(0)\n",
    "    \n",
    "    (p,r,f,s) = precision_recall_fscore_support(y_test, y_pred, labels=[0,1])\n",
    "    return [p, r, f, s]\n",
    "    "
   ]
  },
  {
   "cell_type": "code",
   "execution_count": 818,
   "metadata": {},
   "outputs": [
    {
     "name": "stdout",
     "output_type": "stream",
     "text": [
      "precision=[0.625      0.71428571], recall=[0.71428571 0.625     ], f-score=[0.66666667 0.66666667], support=[28 32]\n"
     ]
    }
   ],
   "source": [
    "result = knn(5, X_train, y_train, X_test, y_test)\n",
    "print(f'precision={result[0]}, recall={result[1]}, f-score={result[2]}, support={result[3]}')"
   ]
  },
  {
   "cell_type": "markdown",
   "metadata": {},
   "source": [
    "### Implementation of K-fold cross validation"
   ]
  },
  {
   "cell_type": "code",
   "execution_count": 820,
   "metadata": {},
   "outputs": [
    {
     "name": "stdout",
     "output_type": "stream",
     "text": [
      "recall_0 -> [0.6, 0.8947368421052632, 0.8, 0.8333333333333334, 0.7142857142857143, 0.7777777777777778, 0.65, 0.6428571428571429, 0.6428571428571429, 0.7368421052631579]\n",
      "mean recall_0 -> 0.7292690058479532\n",
      "recall_1 -> [0.7857142857142857, 0.5, 0.6666666666666666, 0.6470588235294118, 0.4666666666666667, 0.5, 0.6666666666666666, 0.4666666666666667, 0.6666666666666666, 0.6]\n",
      "mean recall_1 -> 0.596610644257703\n",
      "precision_0 -> [0.75, 0.7727272727272727, 0.8421052631578947, 0.625, 0.5555555555555556, 0.4117647058823529, 0.8125, 0.5294117647058824, 0.6428571428571429, 0.7777777777777778]\n",
      "mean precision_0 -> 0.6719699482663879\n",
      "precision_1 -> [0.6470588235294118, 0.7142857142857143, 0.6, 0.8461538461538461, 0.6363636363636364, 0.8333333333333334, 0.46153846153846156, 0.5833333333333334, 0.6666666666666666, 0.5454545454545454]\n",
      "mean precision_1 -> 0.6534188360658948\n",
      "f-score_0 -> [0.6666666666666665, 0.8292682926829269, 0.8205128205128205, 0.7142857142857143, 0.6250000000000001, 0.5384615384615384, 0.7222222222222223, 0.5806451612903226, 0.6428571428571429, 0.7567567567567567]\n",
      "mean f-score_0 -> 0.6896676315736112\n",
      "f-score_1 -> [0.7096774193548386, 0.588235294117647, 0.631578947368421, 0.7333333333333334, 0.5384615384615385, 0.625, 0.5454545454545455, 0.5185185185185186, 0.6666666666666666, 0.5714285714285713]\n",
      "mean f-score_1 -> 0.6128354834704081\n",
      "support 0 -> [15, 19, 20, 12, 14, 9, 20, 14, 14, 19]\n",
      "support 1 -> [14, 10, 9, 17, 15, 20, 9, 15, 15, 10]\n"
     ]
    }
   ],
   "source": [
    "k_fold = 10\n",
    "\n",
    "# Calculate the number of samples per fold\n",
    "fold_size = len(X) // k_fold\n",
    "\n",
    "# Shuffle the dataset\n",
    "X = np.array(X)\n",
    "y = np.array(y)\n",
    "\n",
    "# Shuffle the indices array\n",
    "indices = np.arange(len(X))\n",
    "np.random.shuffle(indices)\n",
    "\n",
    "# Use the shuffled indices to shuffle both X and y\n",
    "X_shuffled = X[indices]\n",
    "y_shuffled = y[indices]\n",
    "\n",
    "precision_0 = []\n",
    "precision_1 = []\n",
    "recall_0 = []\n",
    "recall_1 = []\n",
    "f_score_0 = []\n",
    "f_score_1 = []\n",
    "support_0 = []\n",
    "support_1 = []\n",
    "\n",
    "for fold in range(k_fold):\n",
    "    # Split the dataset into training and testing sets for this fold\n",
    "    test_start = fold * fold_size\n",
    "    test_end = (fold + 1) * fold_size\n",
    "    X_test_fold = X_shuffled[test_start:test_end]\n",
    "    y_test_fold = y_shuffled[test_start:test_end]\n",
    "    \n",
    "    \n",
    "    # Use the remaining data as training set\n",
    "    X_train_fold = np.concatenate([X_shuffled[:test_start], X_shuffled[test_end:]])\n",
    "    y_train_fold = np.concatenate([y_shuffled[:test_start], y_shuffled[test_end:]])\n",
    "    result = knn(5, X_train_fold, y_train_fold, X_test_fold, y_test_fold)\n",
    "    # print(result)\n",
    "    precision_0.append(result[0][0])\n",
    "    precision_1.append(result[0][1])\n",
    "    recall_0.append(result[1][0])\n",
    "    recall_1.append(result[1][1])\n",
    "    f_score_0.append(result[2][0])\n",
    "    f_score_1.append(result[2][1])\n",
    "    support_0.append(result[3][0])\n",
    "    support_1.append(result[3][1])\n",
    "\n",
    "print(f\"recall_0 -> {(recall_0)}\")\n",
    "print(f\"mean recall_0 -> {np.mean(recall_0)}\")\n",
    "print(f\"recall_1 -> {(recall_1)}\")\n",
    "print(f\"mean recall_1 -> {np.mean(recall_1)}\")\n",
    "print(f\"precision_0 -> {(precision_0)}\")\n",
    "print(f\"mean precision_0 -> {np.mean(precision_0)}\")\n",
    "print(f\"precision_1 -> {(precision_1)}\")\n",
    "print(f\"mean precision_1 -> {np.mean(precision_1)}\")\n",
    "print(f\"f-score_0 -> {(f_score_0)}\")\n",
    "print(f\"mean f-score_0 -> {np.mean(f_score_0)}\")\n",
    "print(f\"f-score_1 -> {(f_score_1)}\")\n",
    "print(f\"mean f-score_1 -> {np.mean(f_score_1)}\")\n",
    "print(f\"support 0 -> {support_0}\")\n",
    "print(f\"support 1 -> {support_1}\")\n",
    "    "
   ]
  },
  {
   "cell_type": "markdown",
   "metadata": {},
   "source": [
    "## Part 2"
   ]
  },
  {
   "cell_type": "code",
   "execution_count": null,
   "metadata": {},
   "outputs": [],
   "source": []
  }
 ],
 "metadata": {
  "kernelspec": {
   "display_name": "Python 3",
   "language": "python",
   "name": "python3"
  },
  "language_info": {
   "codemirror_mode": {
    "name": "ipython",
    "version": 3
   },
   "file_extension": ".py",
   "mimetype": "text/x-python",
   "name": "python",
   "nbconvert_exporter": "python",
   "pygments_lexer": "ipython3",
   "version": "3.11.1"
  }
 },
 "nbformat": 4,
 "nbformat_minor": 2
}
