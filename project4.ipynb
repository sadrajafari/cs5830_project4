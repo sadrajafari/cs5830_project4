{
 "cells": [
  {
   "cell_type": "code",
   "execution_count": null,
   "metadata": {},
   "outputs": [],
   "source": [
    "from sklearn.model_selection import train_test_split\n",
    "import pandas as pd\n",
    "from sklearn.neighbors import NearestNeighbors\n",
    "from sklearn.metrics import precision_recall_fscore_support\n",
    "import numpy as np\n",
    "import matplotlib.pyplot as plt\n",
    "import seaborn as sns\n",
    "from scipy.stats import mode\n",
    "from sklearn.metrics import accuracy_score"
   ]
  },
  {
   "cell_type": "markdown",
   "metadata": {},
   "source": [
    "## Part 1"
   ]
  },
  {
   "cell_type": "code",
   "execution_count": null,
   "metadata": {},
   "outputs": [],
   "source": [
    "df = pd.read_csv(\"cleveland.csv\")"
   ]
  },
  {
   "cell_type": "code",
   "execution_count": null,
   "metadata": {},
   "outputs": [],
   "source": [
    "df = df.rename({\"num\": \"disease\"}, axis=1)\n",
    "df[\"disease\"] = df[\"disease\"].apply(lambda x: min(x, 1))\n",
    "df\n",
    "df.replace(\"?\", pd.NA, inplace=True)\n",
    "df = df.dropna()\n",
    "df"
   ]
  },
  {
   "cell_type": "markdown",
   "metadata": {},
   "source": [
    "### Standardization"
   ]
  },
  {
   "cell_type": "code",
   "execution_count": null,
   "metadata": {},
   "outputs": [],
   "source": [
    "df[\"thalach\"] = (df.thalach - df.thalach.mean()) / df.thalach.std()\n",
    "df[\"exang\"] = (df.exang - df.exang.mean()) / df.exang.std()\n",
    "df[\"oldpeak\"] = (df.oldpeak - df.oldpeak.mean()) / df.oldpeak.std()\n",
    "df[\"ca\"] = df[\"ca\"].astype(\"float\")\n",
    "df[\"thal\"] = df[\"thal\"].astype(\"float\")\n",
    "df[\"ca\"] = (df.ca - df.ca.mean()) / df.ca.std()\n",
    "df[\"thal\"] = (df.thal - df.thal.mean()) / df.thal.std()\n",
    "df[\"age\"] = (df.age - df.age.mean()) / df.age.std()\n",
    "df[\"sex\"] = (df.sex - df.sex.mean()) / df.sex.std()\n",
    "df[\"cp\"] = (df.cp - df.cp.mean()) / df.cp.std()\n",
    "df[\"trestbps\"] = (df.trestbps - df.trestbps.mean()) / df.trestbps.std()\n",
    "df[\"chol\"] = (df.chol - df.chol.mean()) / df.chol.std()\n",
    "df[\"fbs\"] = (df.fbs - df.fbs.mean()) / df.fbs.std()\n",
    "df[\"restecg\"] = (df.restecg - df.restecg.mean()) / df.restecg.std()\n",
    "df[\"slope\"] = (df.slope - df.slope.mean()) / df.slope.std()"
   ]
  },
  {
   "cell_type": "markdown",
   "metadata": {},
   "source": [
    "### Let's try the correlation plot to see which features have a great slope value"
   ]
  },
  {
   "cell_type": "code",
   "execution_count": null,
   "metadata": {},
   "outputs": [],
   "source": [
    "fig, axes = plt.subplots(3, 5, figsize=(35, 13), sharex=False)\n",
    "# sns.set_context(\"notebook\", font_scale=1.5)\n",
    "fig.suptitle('Correlation between features and disease', fontsize=20)\n",
    "sns.regplot(x='disease', y='age', data=df, ax=axes[0,0])\n",
    "axes[0,0].set_xlabel(\"age\", fontsize=20)\n",
    "axes[0,0].set_ylabel(\"disease\", fontsize=20)\n",
    "\n",
    "sns.regplot(x='disease', y='cp', data=df, ax=axes[0,1])\n",
    "axes[0,1].set_xlabel(\"cp\", fontsize=20)\n",
    "axes[0,1].set_ylabel(\"disease\", fontsize=20)\n",
    "\n",
    "sns.regplot(x='disease', y='trestbps', data=df, ax=axes[0,2])\n",
    "axes[0,2].set_xlabel(\"trestbps\", fontsize=20)\n",
    "axes[0,2].set_ylabel(\"disease\", fontsize=20)\n",
    "\n",
    "sns.regplot(x='disease', y='chol', data=df, ax=axes[0,3])\n",
    "axes[0,3].set_xlabel(\"chol\", fontsize=20)\n",
    "axes[0,3].set_ylabel(\"disease\", fontsize=20)\n",
    "\n",
    "sns.regplot(x='disease', y='sex', data=df, ax=axes[0,4])\n",
    "axes[0,4].set_xlabel(\"sex\", fontsize=20)\n",
    "axes[0,4].set_ylabel(\"disease\", fontsize=20)\n",
    "\n",
    "sns.regplot(x='disease', y='fbs', data=df, ax=axes[1,0])\n",
    "axes[1,0].set_xlabel(\"fbs\", fontsize=20)\n",
    "axes[1, 0].set_ylabel(\"disease\", fontsize=20)\n",
    "\n",
    "sns.regplot(x='disease', y='restecg', data=df, ax=axes[1,1])\n",
    "axes[1,1].set_xlabel(\"restecg\", fontsize=20)\n",
    "axes[1,1].set_ylabel(\"disease\", fontsize=20)\n",
    "\n",
    "sns.regplot(x='disease', y='thalach', data=df, ax=axes[1,2])\n",
    "axes[1,2].set_xlabel(\"thalach\", fontsize=20)\n",
    "axes[1,2].set_ylabel(\"disease\", fontsize=20)\n",
    "\n",
    "sns.regplot(x='disease', y='exang', data=df, ax=axes[1,3])\n",
    "axes[1,3].set_xlabel(\"exang\", fontsize=20)\n",
    "axes[1,3].set_ylabel(\"disease\", fontsize=20)\n",
    "\n",
    "sns.regplot(x='disease', y='oldpeak', data=df, ax=axes[1,4])\n",
    "axes[1,4].set_xlabel(\"oldpeak\", fontsize=20)\n",
    "axes[1,4].set_ylabel(\"disease\", fontsize=20)\n",
    "\n",
    "sns.regplot(x='disease', y='slope', data=df, ax=axes[2,0])\n",
    "axes[2, 0].set_xlabel(\"slope\", fontsize=20)\n",
    "axes[2, 0].set_ylabel(\"disease\", fontsize=20)\n",
    "\n",
    "sns.regplot(x='disease', y='ca', data=df, ax=axes[2,1])\n",
    "axes[2, 1].set_xlabel(\"ca\", fontsize=20)\n",
    "axes[2, 1].set_ylabel(\"disease\", fontsize=20)\n",
    "sns.regplot(x='disease', y='thal', data=df, ax=axes[2,2])\n",
    "axes[2, 2].set_xlabel(\"thal\", fontsize=20)\n",
    "axes[2, 2].set_ylabel(\"disease\", fontsize=20)\n",
    "fig.delaxes(axes[2, 3])\n",
    "fig.delaxes(axes[2, 4])"
   ]
  },
  {
   "cell_type": "markdown",
   "metadata": {},
   "source": [
    "### Finding the best features based on correlation"
   ]
  },
  {
   "cell_type": "code",
   "execution_count": null,
   "metadata": {},
   "outputs": [],
   "source": [
    "features = df.iloc[:, :-1]\n",
    "\n",
    "# Extract the class label (last column)\n",
    "class_label = df.iloc[:, -1]\n",
    "\n",
    "slopes = {}\n",
    "\n",
    "# Calculate slope between each feature and the class label\n",
    "for feature_name, feature_data in features.items():\n",
    "    slope, _ = np.polyfit(feature_data, class_label, 1)\n",
    "    slopes[feature_name] = (slope)\n",
    "slopes_sorted = dict(sorted(slopes.items(), key=lambda item: item[1], reverse=True))\n",
    "print(slopes_sorted)"
   ]
  },
  {
   "cell_type": "markdown",
   "metadata": {},
   "source": [
    "#### Based on the charts the features: thalach, exang, oldpeak, ca, and thal have the biggest abstract correlation slope value. "
   ]
  },
  {
   "cell_type": "markdown",
   "metadata": {},
   "source": [
    "### Distribution of the features over class label"
   ]
  },
  {
   "cell_type": "code",
   "execution_count": null,
   "metadata": {},
   "outputs": [],
   "source": [
    "df.columns"
   ]
  },
  {
   "cell_type": "code",
   "execution_count": null,
   "metadata": {},
   "outputs": [],
   "source": [
    "disease_1 = df[df.disease==1]\n",
    "disease_0 = df[df.disease==0]\n",
    "figs, axes = plt.subplots(2, 7, figsize=(40, 10), sharex=False)\n",
    "figs.suptitle('Distribution plot of each feature', fontsize=30)\n",
    "sns.distplot(disease_1.age, label='D', kde_kws={'bw':0.5}, ax=axes[0,0], bins=5)\n",
    "sns.distplot(disease_0.age, label='H', kde_kws={'bw':0.5}, ax=axes[0,0], bins=5)\n",
    "axes[0,0].set_xlabel(\"age\", fontsize=20)\n",
    "axes[0,0].set_ylabel(\"Density\", fontsize=20)\n",
    "\n",
    "sns.distplot(disease_1.sex, label='D', kde_kws={'bw':1}, ax=axes[0,1], bins=5)\n",
    "sns.distplot(disease_0.sex, label='H', kde_kws={'bw':1}, ax=axes[0,1], bins=5)\n",
    "axes[0,1].set_xlabel(\"sex\", fontsize=20)\n",
    "axes[0,1].set_ylabel(\"Density\", fontsize=20)\n",
    "\n",
    "sns.distplot(disease_1.cp, label='D', kde_kws={'bw':0.5}, ax=axes[1,0], bins=5)\n",
    "sns.distplot(disease_0.cp, label='H', kde_kws={'bw':0.5}, ax=axes[1,0], bins=5)\n",
    "axes[1,0].set_xlabel(\"cp\", fontsize=20)\n",
    "axes[1,0].set_ylabel(\"Density\", fontsize=20)\n",
    "\n",
    "sns.distplot(disease_1.trestbps, label='D', kde_kws={'bw':0.5}, ax=axes[1,1], bins=5)\n",
    "sns.distplot(disease_0.trestbps, label='H', kde_kws={'bw':0.5}, ax=axes[1,1], bins=5)\n",
    "axes[1,1].set_xlabel(\"trestbps\", fontsize=20)\n",
    "axes[1,1].set_ylabel(\"Density\", fontsize=20)\n",
    "\n",
    "sns.distplot(disease_1.chol, label='D', kde_kws={'bw':0.5}, ax=axes[0,2], bins=5)\n",
    "sns.distplot(disease_0.chol, label='H', kde_kws={'bw':0.5}, ax=axes[0,2], bins=5)\n",
    "axes[0,2].set_xlabel(\"chol\", fontsize=20)\n",
    "axes[0,2].set_ylabel(\"Density\", fontsize=20)\n",
    "\n",
    "\n",
    "sns.distplot(disease_1.fbs, label='D', kde_kws={'bw':1}, ax=axes[1,2], bins=5)\n",
    "sns.distplot(disease_0.fbs, label='H', kde_kws={'bw':1}, ax=axes[1,2], bins=5)\n",
    "axes[1,2].set_xlabel(\"fbs\", fontsize=20)\n",
    "axes[1,2].set_ylabel(\"Density\", fontsize=20)\n",
    "\n",
    "sns.distplot(disease_1.restecg, label='D', kde_kws={'bw':1}, ax=axes[0,3], bins=5)\n",
    "sns.distplot(disease_0.restecg, label='H', kde_kws={'bw':1}, ax=axes[0,3], bins=5)\n",
    "axes[0,3].set_xlabel(\"restecg\", fontsize=20)\n",
    "axes[0,3].set_ylabel(\"Density\", fontsize=20)\n",
    "\n",
    "sns.distplot(disease_1.thalach, label='D', kde_kws={'bw':0.5}, ax=axes[1,3], bins=5)\n",
    "sns.distplot(disease_0.thalach, label='H', kde_kws={'bw':0.5}, ax=axes[1,3], bins=5)\n",
    "axes[1,3].set_xlabel(\"thalach\", fontsize=20)\n",
    "axes[1,3].set_ylabel(\"Density\", fontsize=20)\n",
    "\n",
    "sns.distplot(disease_1.exang, label='D', kde_kws={'bw':1}, ax=axes[0,4], bins=5)\n",
    "sns.distplot(disease_0.exang, label='H', kde_kws={'bw':1}, ax=axes[0,4], bins=5)\n",
    "axes[0,4].set_xlabel(\"exang\", fontsize=20)\n",
    "axes[0,4].set_ylabel(\"Density\", fontsize=20)\n",
    "\n",
    "sns.distplot(disease_1.oldpeak, label='D', kde_kws={'bw':0.5}, ax=axes[1,4], bins=5)\n",
    "sns.distplot(disease_0.oldpeak, label='H', kde_kws={'bw':0.5}, ax=axes[1,4], bins=5)\n",
    "axes[1,4].set_xlabel(\"oldpeak\", fontsize=20)\n",
    "axes[1,4].set_ylabel(\"Density\", fontsize=20)\n",
    "\n",
    "sns.distplot(disease_1.slope, label='D', kde_kws={'bw':1}, ax=axes[0,5], bins=5)\n",
    "sns.distplot(disease_0.slope, label='H', kde_kws={'bw':1}, ax=axes[0,5], bins=5)\n",
    "axes[0, 5].set_xlabel(\"slope\", fontsize=20)\n",
    "axes[0, 5].set_ylabel(\"Density\", fontsize=20)\n",
    "\n",
    "sns.distplot(disease_1.ca, label='D', kde_kws={'bw':0.5}, ax=axes[1,5], bins=5)\n",
    "sns.distplot(disease_0.ca, label='H', kde_kws={'bw':0.5}, ax=axes[1,5], bins=5)\n",
    "axes[1, 5].set_xlabel(\"ca\", fontsize=20)\n",
    "axes[1, 5].set_ylabel(\"Density\", fontsize=20)\n",
    "\n",
    "sns.distplot(disease_1.thal, label='D', kde_kws={'bw':1}, ax=axes[0,6], bins=5)\n",
    "sns.distplot(disease_0.thal, label='H', kde_kws={'bw':1}, ax=axes[0,6], bins=5)\n",
    "axes[0, 6].set_xlabel(\"thal\", fontsize=20)\n",
    "axes[0, 6].set_ylabel(\"Density\", fontsize=20)\n",
    "figs.delaxes(axes[1, 6])\n"
   ]
  },
  {
   "cell_type": "markdown",
   "metadata": {},
   "source": [
    "### Calculated T-test to see the different groups {0, 1} per each feature\n"
   ]
  },
  {
   "cell_type": "code",
   "execution_count": null,
   "metadata": {},
   "outputs": [],
   "source": [
    "from scipy.stats import ttest_ind\n",
    "significant_results = {}\n",
    "\n",
    "for feature in df.columns[:-1]: \n",
    "    t_statistic, p_value = ttest_ind(disease_1[feature], disease_0[feature])\n",
    "    \n",
    "    \n",
    "    if p_value < 0.05:\n",
    "        # Store the t-statistic and p-value in the dictionary\n",
    "        significant_results[feature] = {'T-Statistic': t_statistic, 'P-Value': p_value}\n",
    "\n",
    "print(significant_results)"
   ]
  },
  {
   "cell_type": "markdown",
   "metadata": {},
   "source": [
    "### Selecting our features for further analysis"
   ]
  },
  {
   "cell_type": "code",
   "execution_count": null,
   "metadata": {},
   "outputs": [],
   "source": [
    "\n",
    "X_first_time = df[['thalach', 'oldpeak', 'ca', 'thal']].values\n",
    "X = df[['thalach', 'exang', 'oldpeak', 'ca', 'thal']].values\n",
    "\n",
    "y = df[\"disease\"].values\n",
    "\n"
   ]
  },
  {
   "cell_type": "markdown",
   "metadata": {},
   "source": [
    "## k-nearest neighbors function"
   ]
  },
  {
   "cell_type": "code",
   "execution_count": null,
   "metadata": {},
   "outputs": [],
   "source": [
    "def knn(n_neighbors, X_train, y_train, X_test, y_test):\n",
    "    nn = NearestNeighbors(n_neighbors=n_neighbors, metric=\"euclidean\", algorithm=\"auto\")\n",
    "\n",
    "    fit = nn.fit(X_train)\n",
    "\n",
    "    distances, indices = fit.kneighbors(X_test)\n",
    "    y_pred = []\n",
    "\n",
    "    # print(list(y_test))\n",
    "\n",
    "    # for i in range(len(X_test)):\n",
    "    #     zeros = list(y_train.iloc[indices[i]]).count(0)\n",
    "    #     ones = list(y_train.iloc[indices[i]]).count(1)\n",
    "    #     if ones > zeros:\n",
    "    #         y_pred.append(1)\n",
    "    #     else:\n",
    "    #         y_pred.append(0)\n",
    "    for i in range(len(X_test)):\n",
    "        zeros = list(y_train[indices[i]]).count(0)\n",
    "        ones = list(y_train[indices[i]]).count(1)\n",
    "        # In case of equality of numbers we predict one\n",
    "        if ones >= zeros:\n",
    "            y_pred.append(1)\n",
    "        else:\n",
    "            y_pred.append(0)\n",
    "    \n",
    "    \n",
    "    (p,r,f,s) = precision_recall_fscore_support(y_test, y_pred, labels=[0,1])\n",
    "    acc = accuracy_score(y_test, y_pred)\n",
    "    return [p, r, f, s, acc]\n",
    "    "
   ]
  },
  {
   "cell_type": "markdown",
   "metadata": {},
   "source": [
    "# Finding the best K"
   ]
  },
  {
   "cell_type": "code",
   "execution_count": null,
   "metadata": {},
   "outputs": [],
   "source": [
    "# For a given value of k, use a 10-fold cross validation to compute an average f-score\n",
    "def averageFScore(kValue, X, y):\n",
    "    \n",
    "    k_fold = 10\n",
    "\n",
    "    # Calculate the number of samples per fold\n",
    "    fold_size = len(X) // k_fold\n",
    "    \n",
    "    # Shuffle the dataset\n",
    "    X = np.array(X)\n",
    "    y = np.array(y)\n",
    "\n",
    "    # Shuffle the indices array\n",
    "    indices = np.arange(len(X))\n",
    "    np.random.shuffle(indices)\n",
    "\n",
    "    # Use the shuffled indices to shuffle both X and y\n",
    "    X_shuffled = X[indices]\n",
    "    y_shuffled = y[indices]\n",
    "    f_score_1 = []\n",
    "    \n",
    "\n",
    "    for fold in range(k_fold):\n",
    "        # Split the dataset into training and testing sets for this fold\n",
    "        test_start = fold * fold_size\n",
    "        test_end = (fold + 1) * fold_size\n",
    "        X_test_fold = X_shuffled[test_start:test_end]\n",
    "        y_test_fold = y_shuffled[test_start:test_end]\n",
    "\n",
    "\n",
    "        # Use the remaining data as training set\n",
    "        X_train_fold = np.concatenate([X_shuffled[:test_start], X_shuffled[test_end:]])\n",
    "        y_train_fold = np.concatenate([y_shuffled[:test_start], y_shuffled[test_end:]])\n",
    "        result = knn(kValue, X_train_fold, y_train_fold, X_test_fold, y_test_fold)\n",
    "        # print(result)\n",
    "        f_score_1.append(result[2][1])\n",
    "    \n",
    "    return np.mean(f_score_1)\n",
    "\n",
    "k_range = range(1, 51)\n",
    "best_Ks = []\n",
    "plt.figure(figsize=(10, 5))\n",
    "# Find 3 best k values, take average\n",
    "for i in range(2):\n",
    "    # For k-values 1-50, compute an average f-score and take the k with the highest average f-score\n",
    "    f_scores = [averageFScore(kValue, X, y) for kValue in k_range]\n",
    "    best_Ks.append(f_scores.index(max(f_scores))+1)\n",
    "    plt.plot(k_range,f_scores)\n",
    "print(f\"best_k without average {max(best_Ks)}\")\n",
    "# best_Ksss = best_Ks\n",
    "f_scores = f_scores\n",
    "best_K = np.average(best_Ks)\n",
    "\n",
    "plt.title(\"Average f-score vs. K value\", fontsize=20)\n",
    "plt.xlabel(\"K\", fontsize=20)\n",
    "plt.ylabel(\"f-score\", fontsize=20)\n",
    "plt.show()\n",
    "\n",
    "best_K = int(best_K)\n",
    "print(f\"Average best K: {best_K}\")\n",
    "sns.displot(data=best_Ks,kde=True)\n",
    "plt.title(\"Distribution of Best K Values\")\n",
    "plt.xlabel(\"K Value\")\n",
    "plt.ylabel(\"Count\")\n",
    "\n",
    "\n"
   ]
  },
  {
   "cell_type": "markdown",
   "metadata": {},
   "source": [
    "In the file `FindBestK.py`, there is code which runs a 10-fold cross-validation 1000 times. We will use the best k found by that code."
   ]
  },
  {
   "cell_type": "code",
   "execution_count": null,
   "metadata": {},
   "outputs": [],
   "source": [
    "# From the results of multiple running, set best_K to 32\n",
    "best_K = 32"
   ]
  },
  {
   "cell_type": "markdown",
   "metadata": {},
   "source": [
    "### For the top 4 selected features"
   ]
  },
  {
   "cell_type": "code",
   "execution_count": null,
   "metadata": {},
   "outputs": [],
   "source": [
    "X_train, X_test, y_train, y_test = train_test_split(X_first_time, y, test_size=.2)\n",
    "result = knn(best_K, X_train, y_train, X_test, y_test)\n",
    "print(f'precision={result[0]}, recall={result[1]}, f-score={result[2]}, support={result[3]}') \n",
    "print(f'accuracy={result[4]}') \n"
   ]
  },
  {
   "cell_type": "markdown",
   "metadata": {},
   "source": [
    "### For the top 5 selected features"
   ]
  },
  {
   "cell_type": "code",
   "execution_count": null,
   "metadata": {},
   "outputs": [],
   "source": [
    "X_train, X_test, y_train, y_test = train_test_split(X, y, test_size=.2)\n",
    "result = knn(best_K, X_train, y_train, X_test, y_test)\n",
    "print(f'precision={result[0]}, recall={result[1]}, f-score={result[2]}, support={result[3]}') \n",
    "print(f'accuracy={result[4]}') \n"
   ]
  },
  {
   "cell_type": "markdown",
   "metadata": {},
   "source": [
    "### Using 10-fold Cross Validation for Evaluation of Model with Best K"
   ]
  },
  {
   "cell_type": "code",
   "execution_count": null,
   "metadata": {},
   "outputs": [],
   "source": [
    "k_fold = 10\n",
    "\n",
    "# Calculate the number of samples per fold\n",
    "fold_size = len(X) // k_fold\n",
    "\n",
    "# Shuffle the dataset\n",
    "X = np.array(X)\n",
    "y = np.array(y)\n",
    "\n",
    "# Shuffle the indices array\n",
    "indices = np.arange(len(X))\n",
    "np.random.shuffle(indices)\n",
    "\n",
    "# Use the shuffled indices to shuffle both X and y\n",
    "X_shuffled = X[indices]\n",
    "y_shuffled = y[indices]\n",
    "\n",
    "precision_0 = []\n",
    "precision_1 = []\n",
    "recall_0 = []\n",
    "recall_1 = []\n",
    "f_score_0 = []\n",
    "f_score_1 = []\n",
    "support_0 = []\n",
    "support_1 = []\n",
    "accuracy = []\n",
    "\n",
    "for fold in range(k_fold):\n",
    "    # Split the dataset into training and testing sets for this fold\n",
    "    test_start = fold * fold_size\n",
    "    test_end = (fold + 1) * fold_size\n",
    "    X_test_fold = X_shuffled[test_start:test_end]\n",
    "    y_test_fold = y_shuffled[test_start:test_end]\n",
    "    \n",
    "    \n",
    "    # Use the remaining data as training set\n",
    "    X_train_fold = np.concatenate([X_shuffled[:test_start], X_shuffled[test_end:]])\n",
    "    y_train_fold = np.concatenate([y_shuffled[:test_start], y_shuffled[test_end:]])\n",
    "    result = knn(best_K, X_train_fold, y_train_fold, X_test_fold, y_test_fold)\n",
    "    # print(result)\n",
    "    precision_0.append(result[0][0])\n",
    "    precision_1.append(result[0][1])\n",
    "    recall_0.append(result[1][0])\n",
    "    recall_1.append(result[1][1])\n",
    "    f_score_0.append(result[2][0])\n",
    "    f_score_1.append(result[2][1])\n",
    "    support_0.append(result[3][0])\n",
    "    support_1.append(result[3][1])\n",
    "    accuracy.append(result[4])\n",
    "print(\"--- Recall ---\")\n",
    "print(f\"recall_0 -> {(recall_0)}\")\n",
    "print(f\"mean recall_0 -> {np.mean(recall_0)}\")\n",
    "print(f\"recall_1 -> {(recall_1)}\")\n",
    "print(f\"mean recall_1 -> {np.mean(recall_1)}\")\n",
    "print(\"\\n--- Precision ---\")\n",
    "print(f\"precision_0 -> {(precision_0)}\")\n",
    "print(f\"mean precision_0 -> {np.mean(precision_0)}\")\n",
    "print(f\"precision_1 -> {(precision_1)}\")\n",
    "print(f\"mean precision_1 -> {np.mean(precision_1)}\")\n",
    "print(\"\\n--- F-Score ---\")\n",
    "print(f\"f-score_0 -> {(f_score_0)}\")\n",
    "print(f\"mean f-score_0 -> {np.mean(f_score_0)}\")\n",
    "print(f\"f-score_1 -> {(f_score_1)}\")\n",
    "print(f\"mean f-score_1 -> {np.mean(f_score_1)}\")\n",
    "print(f\"\\n--- Accuracy ---\")\n",
    "print(f\"accuracy for 1 -> {accuracy}\")\n",
    "print(f\"mean accuracy for 1 -> {np.mean(accuracy)}\")\n",
    "print(\"\\n--- Support ---\")\n",
    "print(f\"support 0 -> {support_0}\")\n",
    "print(f\"support 1 -> {support_1}\")\n",
    "    "
   ]
  },
  {
   "cell_type": "code",
   "execution_count": null,
   "metadata": {},
   "outputs": [],
   "source": [
    "k_fold = 10\n",
    "\n",
    "# Calculate the number of samples per fold\n",
    "fold_size = len(X_first_time) // k_fold\n",
    "\n",
    "# Shuffle the dataset\n",
    "X_first_time = np.array(X_first_time)\n",
    "y = np.array(y)\n",
    "\n",
    "# Shuffle the indices array\n",
    "indices = np.arange(len(X_first_time))\n",
    "np.random.shuffle(indices)\n",
    "\n",
    "# Use the shuffled indices to shuffle both X and y\n",
    "X_shuffled = X_first_time[indices]\n",
    "y_shuffled = y[indices]\n",
    "\n",
    "precision_0 = []\n",
    "precision_1 = []\n",
    "recall_0 = []\n",
    "recall_1 = []\n",
    "f_score_0 = []\n",
    "f_score_1 = []\n",
    "support_0 = []\n",
    "support_1 = []\n",
    "accuracy = []\n",
    "\n",
    "for fold in range(k_fold):\n",
    "    # Split the dataset into training and testing sets for this fold\n",
    "    test_start = fold * fold_size\n",
    "    test_end = (fold + 1) * fold_size\n",
    "    X_test_fold = X_shuffled[test_start:test_end]\n",
    "    y_test_fold = y_shuffled[test_start:test_end]\n",
    "    \n",
    "    \n",
    "    # Use the remaining data as training set\n",
    "    X_train_fold = np.concatenate([X_shuffled[:test_start], X_shuffled[test_end:]])\n",
    "    y_train_fold = np.concatenate([y_shuffled[:test_start], y_shuffled[test_end:]])\n",
    "    result = knn(best_K, X_train_fold, y_train_fold, X_test_fold, y_test_fold)\n",
    "    # print(result)\n",
    "    precision_0.append(result[0][0])\n",
    "    precision_1.append(result[0][1])\n",
    "    recall_0.append(result[1][0])\n",
    "    recall_1.append(result[1][1])\n",
    "    f_score_0.append(result[2][0])\n",
    "    f_score_1.append(result[2][1])\n",
    "    support_0.append(result[3][0])\n",
    "    support_1.append(result[3][1])\n",
    "    accuracy.append(result[4])\n",
    "print(\"--- Recall ---\")\n",
    "print(f\"recall_0 -> {(recall_0)}\")\n",
    "print(f\"mean recall_0 -> {np.mean(recall_0)}\")\n",
    "print(f\"recall_1 -> {(recall_1)}\")\n",
    "print(f\"mean recall_1 -> {np.mean(recall_1)}\")\n",
    "print(\"\\n--- Precision ---\")\n",
    "print(f\"precision_0 -> {(precision_0)}\")\n",
    "print(f\"mean precision_0 -> {np.mean(precision_0)}\")\n",
    "print(f\"precision_1 -> {(precision_1)}\")\n",
    "print(f\"mean precision_1 -> {np.mean(precision_1)}\")\n",
    "print(\"\\n--- F-Score ---\")\n",
    "print(f\"f-score_0 -> {(f_score_0)}\")\n",
    "print(f\"mean f-score_0 -> {np.mean(f_score_0)}\")\n",
    "print(f\"f-score_1 -> {(f_score_1)}\")\n",
    "print(f\"mean f-score_1 -> {np.mean(f_score_1)}\")\n",
    "print(f\"\\n--- Accuracy ---\")\n",
    "print(f\"accuracy for 1 -> {accuracy}\")\n",
    "print(f\"mean accuracy for 1 -> {np.mean(accuracy)}\")\n",
    "print(\"\\n--- Support ---\")\n",
    "print(f\"support 0 -> {support_0}\")\n",
    "print(f\"support 1 -> {support_1}\")\n",
    "    "
   ]
  },
  {
   "cell_type": "markdown",
   "metadata": {},
   "source": [
    "## Part 2"
   ]
  },
  {
   "cell_type": "markdown",
   "metadata": {},
   "source": [
    "### Breast cancer prediction"
   ]
  },
  {
   "cell_type": "code",
   "execution_count": null,
   "metadata": {},
   "outputs": [],
   "source": [
    "# Website -> https://www.kaggle.com/datasets/fatemehmehrparvar/breast-cancer-prediction\n",
    "cancerData = pd.read_csv(\"breast-cancer-dataset.csv\")\n",
    "cancerData\n",
    "del cancerData[\"S/N\"]\n",
    "del cancerData[\"Year\"]\n",
    "cancerData"
   ]
  },
  {
   "cell_type": "markdown",
   "metadata": {},
   "source": [
    "### Pre-process"
   ]
  },
  {
   "cell_type": "code",
   "execution_count": null,
   "metadata": {},
   "outputs": [],
   "source": [
    "cancerData = cancerData.dropna()\n",
    "cancerData = cancerData[~cancerData.apply(lambda row: row.astype(str).str.contains('#').any(), axis=1)]\n",
    "cancerData[\"Breast Quadrant\"] = cancerData[\"Breast Quadrant\"].str.strip()\n",
    "cancerData = cancerData.rename({\"Diagnosis Result\": \"diagnosis\"}, axis=1)\n",
    "\n",
    "\n",
    "cancerData[\"Breast\"] = cancerData[\"Breast\"].replace(\"Left\", 0)\n",
    "cancerData[\"Breast\"] = cancerData[\"Breast\"].replace(\"Right\", 1)\n",
    "cancerData[\"Breast Quadrant\"] = cancerData[\"Breast Quadrant\"].replace(\"Lower inner\", 0)\n",
    "cancerData[\"Breast Quadrant\"] = cancerData[\"Breast Quadrant\"].replace(\"Lower outer\", 1)\n",
    "cancerData[\"Breast Quadrant\"] = cancerData[\"Breast Quadrant\"].replace(\"Upper inner\", 2)\n",
    "cancerData[\"Breast Quadrant\"] = cancerData[\"Breast Quadrant\"].replace(\"Upper outer\", 3)\n",
    "cancerData[\"diagnosis\"] = cancerData[\"diagnosis\"].replace(\"Benign\", 0)\n",
    "cancerData[\"diagnosis\"] = cancerData[\"diagnosis\"].replace(\"Malignant\", 1)\n",
    "\n",
    "display(cancerData)"
   ]
  },
  {
   "cell_type": "markdown",
   "metadata": {},
   "source": [
    "## Standardization"
   ]
  },
  {
   "cell_type": "code",
   "execution_count": null,
   "metadata": {},
   "outputs": [],
   "source": [
    "cancerData[\"Menopause\"] = cancerData[\"Menopause\"].astype(\"float\")\n",
    "cancerData[\"Age\"] = cancerData[\"Age\"].astype(\"float\")\n",
    "cancerData[\"Tumor Size (cm)\"] = cancerData[\"Tumor Size (cm)\"].astype(\"float\")\n",
    "cancerData[\"Inv-Nodes\"] = cancerData[\"Inv-Nodes\"].astype(\"float\")\n",
    "cancerData[\"Breast\"] = cancerData[\"Breast\"].astype(\"float\")\n",
    "cancerData[\"Metastasis\"] = cancerData[\"Metastasis\"].astype(\"float\")\n",
    "cancerData[\"Breast Quadrant\"] = cancerData[\"Breast Quadrant\"].astype(\"float\")\n",
    "cancerData[\"History\"] = cancerData[\"History\"].astype(\"float\")\n",
    "\n",
    "cancerData[\"Age\"] = (cancerData.Age - cancerData.Age.mean()) / cancerData.Age.std()\n",
    "cancerData[\"Menopause\"] = (cancerData.Menopause - cancerData.Menopause.mean()) / cancerData.Menopause.std()\n",
    "cancerData[\"Tumor Size (cm)\"] = (cancerData[\"Tumor Size (cm)\"] - cancerData[\"Tumor Size (cm)\"].mean()) / cancerData[\"Tumor Size (cm)\"].std()\n",
    "cancerData[\"Inv-Nodes\"] = (cancerData[\"Inv-Nodes\"] - cancerData[\"Inv-Nodes\"].mean()) / cancerData[\"Inv-Nodes\"].std()\n",
    "cancerData[\"Breast\"] = (cancerData[\"Breast\"] - cancerData[\"Breast\"].mean()) / cancerData[\"Breast\"].std()\n",
    "cancerData[\"Metastasis\"] = (cancerData[\"Metastasis\"] - cancerData[\"Metastasis\"].mean()) / cancerData[\"Metastasis\"].std()\n",
    "cancerData[\"Breast Quadrant\"] = (cancerData[\"Breast Quadrant\"] - cancerData[\"Breast Quadrant\"].mean()) / cancerData[\"Breast Quadrant\"].std()\n",
    "cancerData[\"History\"] = (cancerData[\"History\"] - cancerData[\"History\"].mean()) / cancerData[\"History\"].std()\n"
   ]
  },
  {
   "cell_type": "code",
   "execution_count": null,
   "metadata": {},
   "outputs": [],
   "source": [
    "cancerData.columns"
   ]
  },
  {
   "cell_type": "markdown",
   "metadata": {},
   "source": [
    "## Feature Selection"
   ]
  },
  {
   "cell_type": "code",
   "execution_count": null,
   "metadata": {},
   "outputs": [],
   "source": [
    "fig, axes = plt.subplots(2, 4,figsize=(30, 10))\n",
    "fig.suptitle('Correlation between features and diagnosis', fontsize=20)\n",
    "\n",
    "sns.regplot(x='diagnosis', y='Age', data=cancerData, ax=axes[0,0])\n",
    "axes[0, 0].set_xlabel(\"Age\", fontsize=20)\n",
    "axes[0, 0].set_ylabel(\"diagnosis\", fontsize=20)\n",
    "\n",
    "sns.regplot(x='diagnosis', y='Menopause', data=cancerData, ax=axes[1,0])\n",
    "axes[1,0].set_xlabel(\"Menopause\", fontsize=20)\n",
    "axes[1,0].set_ylabel(\"diagnosis\", fontsize=20)\n",
    "\n",
    "sns.regplot(x='diagnosis', y='Tumor Size (cm)', data=cancerData, ax=axes[0,1])\n",
    "axes[0,1].set_xlabel(\"Tumor Size (cm)\", fontsize=20)\n",
    "axes[0,1].set_ylabel(\"diagnosis\", fontsize=20)\n",
    "\n",
    "sns.regplot(x='diagnosis', y='Inv-Nodes', data=cancerData, ax=axes[1,1])\n",
    "axes[1,1].set_xlabel(\"Inv-Nodes\", fontsize=20)\n",
    "axes[1,1].set_ylabel(\"diagnosis\", fontsize=20)\n",
    "\n",
    "sns.regplot(x='diagnosis', y='Breast', data=cancerData, ax=axes[0,2])\n",
    "axes[0,2].set_xlabel(\"Breast\", fontsize=20)\n",
    "axes[0,2].set_ylabel(\"diagnosis\", fontsize=20)\n",
    "\n",
    "sns.regplot(x='diagnosis', y='Metastasis', data=cancerData, ax=axes[1,2])\n",
    "axes[1,2].set_xlabel(\"Metastasis\", fontsize=20)\n",
    "axes[1,2].set_ylabel(\"diagnosis\", fontsize=20)\n",
    "\n",
    "sns.regplot(x='diagnosis', y='Breast Quadrant', data=cancerData, ax=axes[0,3])\n",
    "axes[0,3].set_xlabel(\"Breast Quadrant\", fontsize=20)\n",
    "axes[0,3].set_ylabel(\"diagnosis\", fontsize=20)\n",
    "\n",
    "sns.regplot(x='diagnosis', y='History', data=cancerData, ax=axes[1,3])\n",
    "axes[1,3].set_xlabel(\"History\", fontsize=20)\n",
    "axes[1,3].set_ylabel(\"diagnosis\", fontsize=20)"
   ]
  },
  {
   "cell_type": "code",
   "execution_count": null,
   "metadata": {},
   "outputs": [],
   "source": [
    "features = cancerData.iloc[:, :-1]\n",
    "\n",
    "# Extract the class label (last column)\n",
    "class_label = cancerData.iloc[:, -1]\n",
    "\n",
    "slopes = {}\n",
    "\n",
    "# Calculate slope between each feature and the class label\n",
    "for feature_name, feature_data in features.items():\n",
    "    slope, _ = np.polyfit(feature_data, class_label, 1)\n",
    "    slopes[feature_name] = (slope)\n",
    "slopes_sorted = dict(sorted(slopes.items(), key=lambda item: item[1], reverse=True))\n",
    "print(slopes_sorted)"
   ]
  },
  {
   "cell_type": "code",
   "execution_count": null,
   "metadata": {},
   "outputs": [],
   "source": [
    "disease_1 = cancerData[cancerData.diagnosis==1]\n",
    "disease_0 = cancerData[cancerData.diagnosis==0]\n",
    "figs, axes = plt.subplots(2, 4, figsize=(30, 10), sharex=False)\n",
    "figs.suptitle('Distribution plot of each feature', fontsize=20)\n",
    "sns.distplot(disease_1[\"History\"], label='D', kde_kws={'bw':1}, ax=axes[0, 0], bins=5)\n",
    "sns.distplot(disease_0[\"History\"], label='H', kde_kws={'bw':1}, ax=axes[0, 0], bins=5)\n",
    "axes[0, 0].set_xlabel(\"History\", fontsize=20)\n",
    "axes[0, 0].set_ylabel(\"density\", fontsize=20)\n",
    "\n",
    "sns.distplot(disease_1[\"Breast Quadrant\"], label='D', kde_kws={'bw':1}, ax=axes[0, 1], bins=5)\n",
    "sns.distplot(disease_0[\"Breast Quadrant\"], label='H', kde_kws={'bw':1}, ax=axes[0, 1], bins=5)\n",
    "axes[0, 1].set_xlabel(\"Breast Quadrant\", fontsize=20)\n",
    "axes[0, 1].set_ylabel(\"density\", fontsize=20)\n",
    "\n",
    "sns.distplot(disease_1[\"Metastasis\"], label='D', kde_kws={'bw':0.5}, ax=axes[0, 2], bins=5)\n",
    "sns.distplot(disease_0[\"Metastasis\"], label='H', kde_kws={'bw':0.5}, ax=axes[0, 2], bins=5)\n",
    "axes[0, 2].set_xlabel(\"Metastasis\", fontsize=20)\n",
    "axes[0, 2].set_ylabel(\"density\", fontsize=20)\n",
    "\n",
    "sns.distplot(disease_1[\"Breast\"], label='D', kde_kws={'bw':1}, ax=axes[0, 3], bins=5)\n",
    "sns.distplot(disease_0[\"Breast\"], label='H', kde_kws={'bw':1}, ax=axes[0, 3], bins=5)\n",
    "axes[0, 3].set_xlabel(\"Breast\", fontsize=20)\n",
    "axes[0, 3].set_ylabel(\"density\", fontsize=20)\n",
    "\n",
    "sns.distplot(disease_1['Inv-Nodes'], label='D', kde_kws={'bw':0.5}, ax=axes[1, 0], bins=5)\n",
    "sns.distplot(disease_0['Inv-Nodes'], label='H', kde_kws={'bw':0.5}, ax=axes[1, 0], bins=5)\n",
    "axes[1, 0].set_xlabel(\"Inv-Nodes\", fontsize=20)\n",
    "axes[1, 0].set_ylabel(\"density\", fontsize=20)\n",
    "\n",
    "sns.distplot(disease_1[\"Tumor Size (cm)\"], label='D', kde_kws={'bw':1}, ax=axes[1, 1], bins=5)\n",
    "sns.distplot(disease_0[\"Tumor Size (cm)\"], label='H', kde_kws={'bw':1}, ax=axes[1, 1], bins=5)\n",
    "axes[1, 1].set_xlabel(\"Tumor Size (cm)\", fontsize=20)\n",
    "axes[1, 1].set_ylabel(\"density\", fontsize=20)\n",
    "\n",
    "sns.distplot(disease_1.Menopause, label='D', kde_kws={'bw':0.5}, ax=axes[1, 2], bins=5)\n",
    "sns.distplot(disease_0.Menopause, label='H', kde_kws={'bw':0.5}, ax=axes[1, 2], bins=5)\n",
    "axes[1, 2].set_xlabel(\"Menopause\", fontsize=20)\n",
    "axes[1, 2].set_ylabel(\"density\", fontsize=20)\n",
    "\n",
    "sns.distplot(disease_1.Age, label='D', kde_kws={'bw':1}, ax=axes[1, 3], bins=5)\n",
    "sns.distplot(disease_0.Age, label='H', kde_kws={'bw':1}, ax=axes[1, 3], bins=5)\n",
    "axes[1, 3].set_xlabel(\"Age\", fontsize=20)\n",
    "axes[1, 3].set_ylabel(\"density\", fontsize=20)"
   ]
  },
  {
   "cell_type": "markdown",
   "metadata": {},
   "source": [
    "### T-test for just confirming we mentioned the p-value in report!"
   ]
  },
  {
   "cell_type": "code",
   "execution_count": null,
   "metadata": {},
   "outputs": [],
   "source": [
    "from scipy.stats import ttest_ind\n",
    "significant_results = {}\n",
    "\n",
    "for feature in cancerData.columns[:-1]: \n",
    "    t_statistic, p_value = ttest_ind(disease_1[feature], disease_0[feature])\n",
    "    \n",
    "    \n",
    "    if p_value < 0.05:\n",
    "        # Store the t-statistic and p-value in the dictionary\n",
    "        significant_results[feature] = {'T-Statistic': t_statistic, 'P-Value': p_value}\n",
    "\n",
    "print(significant_results)"
   ]
  },
  {
   "cell_type": "markdown",
   "metadata": {},
   "source": [
    "For this part as we see the features named: Menopause, Metastatis, Age, and Tumor Size are suitable for further analyses"
   ]
  },
  {
   "cell_type": "code",
   "execution_count": null,
   "metadata": {},
   "outputs": [],
   "source": [
    "cancerData.columns"
   ]
  },
  {
   "cell_type": "markdown",
   "metadata": {},
   "source": [
    "## Preparing Training and Testing Data"
   ]
  },
  {
   "cell_type": "code",
   "execution_count": null,
   "metadata": {},
   "outputs": [],
   "source": [
    "# X = kidneyData[[\"sg\", \"al\", \"pc\", \"pcv\", \"htn\", \"dm\", \"ane\"]].values\n",
    "X = cancerData[['Menopause', 'Metastasis', 'Age', 'Tumor Size (cm)', 'Inv-Nodes']].values\n",
    "# Try this commented code instead of the above one to see the difference\n",
    "# X = kidneyData[['age', 'su', 'pot','wc']].values\n",
    "y = cancerData[\"diagnosis\"].values\n",
    "X_train, X_test, y_train, y_test = train_test_split(X, y, test_size=.2)"
   ]
  },
  {
   "cell_type": "markdown",
   "metadata": {},
   "source": [
    "## Finding Best K"
   ]
  },
  {
   "cell_type": "code",
   "execution_count": null,
   "metadata": {},
   "outputs": [],
   "source": [
    "k_range = range(1, 51)\n",
    "best_Ks = []\n",
    "plt.figure(figsize=(10, 5))\n",
    "# Find 3 best k values, take average\n",
    "for i in range(2):\n",
    "    # For k-values 1-50, compute an average f-score and take the k with the highest average f-score\n",
    "    f_scores = [averageFScore(kValue, X, y) for kValue in k_range]\n",
    "    best_Ks.append(f_scores.index(max(f_scores))+1)\n",
    "    plt.plot(k_range,f_scores)\n",
    "best_K = np.array(best_Ks).mean()\n",
    "best_K = mode(best_Ks).mode[0]\n",
    "plt.title(\"Average f-score vs. K value\", fontsize=20)\n",
    "plt.xlabel(\"K\", fontsize=20)\n",
    "plt.ylabel(\"f-score\", fontsize=20)\n",
    "plt.show()\n",
    "print(f\"best_k without average {max(best_Ks)}\")\n",
    "\n",
    "best_K = int(best_K)\n",
    "print(f\"Best K: {best_K}\")\n",
    "sns.displot(data=best_Ks,kde=True)\n",
    "plt.title(\"Distribution of Best K Values\")\n",
    "plt.xlabel(\"K Value\")\n",
    "plt.ylabel(\"Count\")"
   ]
  },
  {
   "cell_type": "markdown",
   "metadata": {},
   "source": [
    "**NOTE:** The distribution has one bin that is dominating the others. In a situation like this, it is most suitable to use the mode for the best k (because the mode is the best value of k so much more often than the median and mean)\n",
    "\n",
    "In the file `FindBestK.py`, there is code which runs a 10-fold cross-validation 1000 times. We will use the best k found by that code."
   ]
  },
  {
   "cell_type": "code",
   "execution_count": null,
   "metadata": {},
   "outputs": [],
   "source": [
    "# FindBestK.py found that the best k is 10, so we will use that\n",
    "best_K = 10"
   ]
  },
  {
   "cell_type": "markdown",
   "metadata": {},
   "source": [
    "## Evaluating"
   ]
  },
  {
   "cell_type": "code",
   "execution_count": null,
   "metadata": {},
   "outputs": [],
   "source": [
    "result = knn(best_K, X_train, y_train, X_test, y_test)\n",
    "print(f'precision={result[0]}, recall={result[1]}, f-score={result[2]}, support={result[3]}') \n",
    "print(f'accuracy={result[4]}') "
   ]
  },
  {
   "cell_type": "markdown",
   "metadata": {},
   "source": [
    "# 10-Fold Cross-Validation"
   ]
  },
  {
   "cell_type": "code",
   "execution_count": null,
   "metadata": {},
   "outputs": [],
   "source": [
    "k_fold = 10\n",
    "\n",
    "# Calculate the number of samples per fold\n",
    "fold_size = len(X) // k_fold\n",
    "\n",
    "# Shuffle the dataset\n",
    "X = np.array(X)\n",
    "y = np.array(y)\n",
    "\n",
    "# Shuffle the indices array\n",
    "indices = np.arange(len(X))\n",
    "np.random.shuffle(indices)\n",
    "\n",
    "# Use the shuffled indices to shuffle both X and y\n",
    "X_shuffled = X[indices]\n",
    "y_shuffled = y[indices]\n",
    "\n",
    "precision_0 = []\n",
    "precision_1 = []\n",
    "recall_0 = []\n",
    "recall_1 = []\n",
    "f_score_0 = []\n",
    "f_score_1 = []\n",
    "support_0 = []\n",
    "support_1 = []\n",
    "accuracy = []\n",
    "\n",
    "for fold in range(k_fold):\n",
    "    # Split the dataset into training and testing sets for this fold\n",
    "    test_start = fold * fold_size\n",
    "    test_end = (fold + 1) * fold_size\n",
    "    X_test_fold = X_shuffled[test_start:test_end]\n",
    "    y_test_fold = y_shuffled[test_start:test_end]\n",
    "    \n",
    "    \n",
    "    # Use the remaining data as training set\n",
    "    X_train_fold = np.concatenate([X_shuffled[:test_start], X_shuffled[test_end:]])\n",
    "    y_train_fold = np.concatenate([y_shuffled[:test_start], y_shuffled[test_end:]])\n",
    "    result = knn(best_K, X_train_fold, y_train_fold, X_test_fold, y_test_fold)\n",
    "    # print(result)\n",
    "    precision_0.append(result[0][0])\n",
    "    precision_1.append(result[0][1])\n",
    "    recall_0.append(result[1][0])\n",
    "    recall_1.append(result[1][1])\n",
    "    f_score_0.append(result[2][0])\n",
    "    f_score_1.append(result[2][1])\n",
    "    support_0.append(result[3][0])\n",
    "    support_1.append(result[3][1])\n",
    "    accuracy.append(result[4])\n",
    "\n",
    "print(\"--- Recall ---\")\n",
    "print(f\"recall_0 -> {(recall_0)}\")\n",
    "print(f\"mean recall_0 -> {np.mean(recall_0)}\")\n",
    "print(f\"recall_1 -> {(recall_1)}\")\n",
    "print(f\"mean recall_1 -> {np.mean(recall_1)}\")\n",
    "print(\"\\n--- Precision ---\")\n",
    "print(f\"precision_0 -> {(precision_0)}\")\n",
    "print(f\"mean precision_0 -> {np.mean(precision_0)}\")\n",
    "print(f\"precision_1 -> {(precision_1)}\")\n",
    "print(f\"mean precision_1 -> {np.mean(precision_1)}\")\n",
    "print(\"\\n--- F-Score ---\")\n",
    "print(f\"f-score_0 -> {(f_score_0)}\")\n",
    "print(f\"mean f-score_0 -> {np.mean(f_score_0)}\")\n",
    "print(f\"f-score_1 -> {(f_score_1)}\")\n",
    "print(f\"mean f-score_1 -> {np.mean(f_score_1)}\")\n",
    "print(f\"\\n--- Accuracy ---\")\n",
    "print(f\"accuracy for 1 -> {accuracy}\")\n",
    "print(f\"mean accuracy for 1 -> {np.mean(accuracy)}\")\n",
    "print(\"\\n--- Support ---\")\n",
    "print(f\"support 0 -> {support_0}\")\n",
    "print(f\"support 1 -> {support_1}\")\n"
   ]
  },
  {
   "cell_type": "markdown",
   "metadata": {},
   "source": [
    "### Based on the type of dataset that we have and the good feature selection we have done we are getting a high value in all these test but if we add a feature that does not have a high correlation with disease we may lose the results."
   ]
  }
 ],
 "metadata": {
  "kernelspec": {
   "display_name": "Python 3",
   "language": "python",
   "name": "python3"
  },
  "language_info": {
   "codemirror_mode": {
    "name": "ipython",
    "version": 3
   },
   "file_extension": ".py",
   "mimetype": "text/x-python",
   "name": "python",
   "nbconvert_exporter": "python",
   "pygments_lexer": "ipython3",
   "version": "3.11.1"
  }
 },
 "nbformat": 4,
 "nbformat_minor": 2
}
